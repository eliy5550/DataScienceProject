{
 "cells": [
  {
   "cell_type": "markdown",
   "id": "0085f5f5",
   "metadata": {},
   "source": [
    "# FINAL PROJECT INTRO TO DATA SCIENCE 2021-2022"
   ]
  },
  {
   "cell_type": "markdown",
   "id": "f44aa6d3",
   "metadata": {},
   "source": [
    "## By: Eliel Yeshayahu and Shimon Turchak"
   ]
  },
  {
   "cell_type": "code",
   "execution_count": 2,
   "id": "d6771b12",
   "metadata": {},
   "outputs": [],
   "source": [
    "\n",
    "\n",
    "import pandas as pd\n",
    "import numpy as np\n",
    "import matplotlib.pyplot as plt\n",
    "import seaborn as sns\n",
    "\n",
    "from sklearn.preprocessing import StandardScaler, MinMaxScaler\n",
    "from sklearn.model_selection import train_test_split\n",
    "from sklearn.linear_model import LinearRegression, Ridge, Lasso\n",
    "from sklearn.model_selection import cross_val_score\n",
    "from sklearn.metrics import r2_score\n",
    "\n",
    "import seaborn as sns\n",
    "import warnings\n",
    "import requests\n",
    "warnings.filterwarnings(\"ignore\")\n",
    "from bs4 import BeautifulSoup\n",
    "\n",
    "# sklearn imports\n",
    "from sklearn import linear_model\n",
    "from sklearn import metrics\n",
    "\n",
    "\n"
   ]
  },
  {
   "cell_type": "markdown",
   "id": "f8b18469",
   "metadata": {},
   "source": [
    "SCRAPING:"
   ]
  },
  {
   "cell_type": "markdown",
   "id": "b8f6d20a",
   "metadata": {},
   "source": [
    "In this section we scrape data from a website named: Metacritics\n",
    "This site reviews and grades released video games. It has done so for many years so we decided to use it.\n",
    "We took the top rated games from and created a Data Frame.\n",
    "We used crawling to get data from the inner page too and not only from the list."
   ]
  },
  {
   "cell_type": "code",
   "execution_count": null,
   "id": "f4a34206",
   "metadata": {},
   "outputs": [
    {
     "name": "stdout",
     "output_type": "stream",
     "text": [
      "PAGE : 27------------\n",
      "0\n",
      "1\n",
      "2\n",
      "3\n",
      "4\n",
      "5\n",
      "6\n",
      "7\n",
      "8\n",
      "9\n",
      "10\n",
      "11\n",
      "12\n",
      "13\n",
      "14\n",
      "15\n",
      "16\n",
      "17\n",
      "18\n",
      "19\n",
      "20\n",
      "21\n",
      "22\n",
      "23\n",
      "24\n",
      "25\n",
      "26\n",
      "27\n",
      "28\n",
      "29\n",
      "30\n"
     ]
    }
   ],
   "source": [
    "\n",
    "\n",
    "#creating list for each column\n",
    "\n",
    "names = []\n",
    "release_dates = []\n",
    "amount_of_platformss = []\n",
    "platforms = []\n",
    "meta_scores = []\n",
    "user_scores = []\n",
    "summeries = []\n",
    "amount_of_meta_criticss = []\n",
    "devs =[]\n",
    "all_genres = []\n",
    "\n",
    "urls=[]\n",
    "base_url = \"https://www.metacritic.com\";\n",
    "\n",
    "#scraping and crawling 40 pages\n",
    "a = 0\n",
    "for j in range(50):\n",
    "    j = 27\n",
    "    print(\"PAGE : \" + str(j) + \"------------\")\n",
    "    x = \"https://www.metacritic.com/browse/games/score/metascore/all/pc/filtered?page=\" + str(j)\n",
    "    user_agent = {'User-agent': 'Mozilla/5.0'}\n",
    "    response = requests.get(x , headers = user_agent);\n",
    "    soup = BeautifulSoup(response.content,'html.parser')\n",
    "    all_games = soup.find_all(\"tr\")\n",
    "    \n",
    "    for i in range(200):\n",
    "        #the site has data only in the even number of table rows so we skipped the irrelevant ones\n",
    "        if i%2 != 0:\n",
    "            continue;\n",
    "            \n",
    "        print(a)\n",
    "        #scraping data from the list\n",
    "        name=all_games[i].find_all(\"a\", class_=\"title\")[0].get_text().strip()\n",
    "        release_date=all_games[i].find_all(\"div\" , class_=\"clamp-details\")[0].find_all(\"span\")[2].get_text().strip()\n",
    "        platform=all_games[i].find_all(\"div\" , class_=\"clamp-details\")[0].find_all(\"span\")[1].get_text().strip()\n",
    "        meta_score=all_games[i].find_all(\"a\")[1].get_text().strip()\n",
    "        user_score=all_games[i].find_all(\"a\")[4].get_text().strip()\n",
    "        summery = all_games[i].find_all(\"div\" )[4].get_text().strip()\n",
    "        \n",
    "        #crawling into the innerpage for each video-game\n",
    "        next_url = base_url + all_games[i].find_all(\"a\")[2]['href'].strip()\n",
    "        html = requests.get(next_url , headers = user_agent);\n",
    "        next_soup = BeautifulSoup(html.content,'html.parser')\n",
    "        \n",
    "        #scraping data from inner page\n",
    "        if html.status_code != 404:\n",
    "            amount_of_meta_critics = next_soup.find(\"div\" , class_=\"summary\")\n",
    "            if amount_of_meta_critics:\n",
    "                amount_of_meta_critics = amount_of_meta_critics.find(\"a\").find(\"span\").get_text().strip()\n",
    "            else:\n",
    "                amount_of_meta_critics = \"0\"\n",
    "                \n",
    "            developer = \"?\"\n",
    "            developer_div = next_soup.find(\"div\" , class_=\"summary_wrap\").find(\"li\" , class_=\"summary_detail developer\")\n",
    "            if(developer_div):\n",
    "                developer = developer_div.find(\"a\").get_text()\n",
    "            else: \n",
    "                developer = \"?\"\n",
    "            genres = next_soup.find(\"li\" , class_=\"summary_detail product_genre\").find_all(\"span\" , class_=\"data\")\n",
    "            also_on = next_soup.find(\"li\" , class_=\"summary_detail product_platforms\")\n",
    "            if also_on:\n",
    "                amount_of_platforms = len(also_on.find_all('a'))+1\n",
    "            else:\n",
    "                amount_of_platforms = 1 \n",
    "            #creatng a list of genres for each game\n",
    "            genre = \"\"\n",
    "            for i in genres:\n",
    "                genre = genre + i.get_text() + \",\"    \n",
    "            genre = genre[:-1]\n",
    "            \n",
    "        else:\n",
    "            amount_of_meta_critics=\"0\"\n",
    "            developer = \"?\"\n",
    "            genre = \"?\"\n",
    "            amount_of_platforms= 1\n",
    "\n",
    "        #adding all data to the lists\n",
    "        names.append(name)\n",
    "        release_dates.append(release_date)\n",
    "        platforms.append(platform)\n",
    "        meta_scores.append(meta_score)\n",
    "        user_scores.append(user_score)\n",
    "        summeries.append(summery)\n",
    "        #innerpage\n",
    "        amount_of_meta_criticss.append(amount_of_meta_critics)\n",
    "        devs.append(developer)\n",
    "        all_genres.append(genre);\n",
    "        amount_of_platformss.append(amount_of_platforms)\n",
    "        a = a+1\n",
    "#40"
   ]
  },
  {
   "cell_type": "code",
   "execution_count": null,
   "id": "b83366a9",
   "metadata": {},
   "outputs": [],
   "source": []
  },
  {
   "cell_type": "code",
   "execution_count": 7,
   "id": "11245fa9",
   "metadata": {},
   "outputs": [
    {
     "data": {
      "text/html": [
       "<div>\n",
       "<style scoped>\n",
       "    .dataframe tbody tr th:only-of-type {\n",
       "        vertical-align: middle;\n",
       "    }\n",
       "\n",
       "    .dataframe tbody tr th {\n",
       "        vertical-align: top;\n",
       "    }\n",
       "\n",
       "    .dataframe thead th {\n",
       "        text-align: right;\n",
       "    }\n",
       "</style>\n",
       "<table border=\"1\" class=\"dataframe\">\n",
       "  <thead>\n",
       "    <tr style=\"text-align: right;\">\n",
       "      <th></th>\n",
       "      <th>name</th>\n",
       "      <th>release_dates</th>\n",
       "      <th>platforms</th>\n",
       "      <th>meta_scores</th>\n",
       "      <th>user_scores</th>\n",
       "      <th>summeries</th>\n",
       "      <th>num_meta_critics</th>\n",
       "      <th>developer</th>\n",
       "      <th>amount_of_platforms</th>\n",
       "      <th>all_genres</th>\n",
       "    </tr>\n",
       "  </thead>\n",
       "  <tbody>\n",
       "    <tr>\n",
       "      <th>0</th>\n",
       "      <td>Shattered Horizon</td>\n",
       "      <td>November 4, 2009</td>\n",
       "      <td>PC</td>\n",
       "      <td>72</td>\n",
       "      <td>8.0</td>\n",
       "      <td>Shattered Horizon is the first game from Futur...</td>\n",
       "      <td>30</td>\n",
       "      <td>Futuremark Games Studio</td>\n",
       "      <td>1</td>\n",
       "      <td>Action,Shooter,Shooter,First-Person,Sci-Fi,Sci...</td>\n",
       "    </tr>\n",
       "    <tr>\n",
       "      <th>1</th>\n",
       "      <td>Shattered Horizon</td>\n",
       "      <td>November 4, 2009</td>\n",
       "      <td>PC</td>\n",
       "      <td>72</td>\n",
       "      <td>8.0</td>\n",
       "      <td>Shattered Horizon is the first game from Futur...</td>\n",
       "      <td>30</td>\n",
       "      <td>Futuremark Games Studio</td>\n",
       "      <td>1</td>\n",
       "      <td>Action,Shooter,Shooter,First-Person,Sci-Fi,Sci...</td>\n",
       "    </tr>\n",
       "    <tr>\n",
       "      <th>2</th>\n",
       "      <td>Shattered Horizon</td>\n",
       "      <td>November 4, 2009</td>\n",
       "      <td>PC</td>\n",
       "      <td>72</td>\n",
       "      <td>8.0</td>\n",
       "      <td>Shattered Horizon is the first game from Futur...</td>\n",
       "      <td>30</td>\n",
       "      <td>Futuremark Games Studio</td>\n",
       "      <td>1</td>\n",
       "      <td>Action,Shooter,Shooter,First-Person,Sci-Fi,Sci...</td>\n",
       "    </tr>\n",
       "    <tr>\n",
       "      <th>3</th>\n",
       "      <td>Shattered Horizon</td>\n",
       "      <td>November 4, 2009</td>\n",
       "      <td>PC</td>\n",
       "      <td>72</td>\n",
       "      <td>8.0</td>\n",
       "      <td>Shattered Horizon is the first game from Futur...</td>\n",
       "      <td>30</td>\n",
       "      <td>Futuremark Games Studio</td>\n",
       "      <td>1</td>\n",
       "      <td>Action,Shooter,Shooter,First-Person,Sci-Fi,Sci...</td>\n",
       "    </tr>\n",
       "    <tr>\n",
       "      <th>4</th>\n",
       "      <td>Shattered Horizon</td>\n",
       "      <td>November 4, 2009</td>\n",
       "      <td>PC</td>\n",
       "      <td>72</td>\n",
       "      <td>8.0</td>\n",
       "      <td>Shattered Horizon is the first game from Futur...</td>\n",
       "      <td>30</td>\n",
       "      <td>Futuremark Games Studio</td>\n",
       "      <td>1</td>\n",
       "      <td>Action,Shooter,Shooter,First-Person,Sci-Fi,Sci...</td>\n",
       "    </tr>\n",
       "    <tr>\n",
       "      <th>5</th>\n",
       "      <td>Shattered Horizon</td>\n",
       "      <td>November 4, 2009</td>\n",
       "      <td>PC</td>\n",
       "      <td>72</td>\n",
       "      <td>8.0</td>\n",
       "      <td>Shattered Horizon is the first game from Futur...</td>\n",
       "      <td>30</td>\n",
       "      <td>Futuremark Games Studio</td>\n",
       "      <td>1</td>\n",
       "      <td>Action,Shooter,Shooter,First-Person,Sci-Fi,Sci...</td>\n",
       "    </tr>\n",
       "    <tr>\n",
       "      <th>6</th>\n",
       "      <td>Shattered Horizon</td>\n",
       "      <td>November 4, 2009</td>\n",
       "      <td>PC</td>\n",
       "      <td>72</td>\n",
       "      <td>8.0</td>\n",
       "      <td>Shattered Horizon is the first game from Futur...</td>\n",
       "      <td>30</td>\n",
       "      <td>Futuremark Games Studio</td>\n",
       "      <td>1</td>\n",
       "      <td>Action,Shooter,Shooter,First-Person,Sci-Fi,Sci...</td>\n",
       "    </tr>\n",
       "    <tr>\n",
       "      <th>7</th>\n",
       "      <td>Shattered Horizon</td>\n",
       "      <td>November 4, 2009</td>\n",
       "      <td>PC</td>\n",
       "      <td>72</td>\n",
       "      <td>8.0</td>\n",
       "      <td>Shattered Horizon is the first game from Futur...</td>\n",
       "      <td>30</td>\n",
       "      <td>Futuremark Games Studio</td>\n",
       "      <td>1</td>\n",
       "      <td>Action,Shooter,Shooter,First-Person,Sci-Fi,Sci...</td>\n",
       "    </tr>\n",
       "    <tr>\n",
       "      <th>8</th>\n",
       "      <td>Shattered Horizon</td>\n",
       "      <td>November 4, 2009</td>\n",
       "      <td>PC</td>\n",
       "      <td>72</td>\n",
       "      <td>8.0</td>\n",
       "      <td>Shattered Horizon is the first game from Futur...</td>\n",
       "      <td>30</td>\n",
       "      <td>Futuremark Games Studio</td>\n",
       "      <td>1</td>\n",
       "      <td>Action,Shooter,Shooter,First-Person,Sci-Fi,Sci...</td>\n",
       "    </tr>\n",
       "    <tr>\n",
       "      <th>9</th>\n",
       "      <td>Shattered Horizon</td>\n",
       "      <td>November 4, 2009</td>\n",
       "      <td>PC</td>\n",
       "      <td>72</td>\n",
       "      <td>8.0</td>\n",
       "      <td>Shattered Horizon is the first game from Futur...</td>\n",
       "      <td>30</td>\n",
       "      <td>Futuremark Games Studio</td>\n",
       "      <td>1</td>\n",
       "      <td>Action,Shooter,Shooter,First-Person,Sci-Fi,Sci...</td>\n",
       "    </tr>\n",
       "  </tbody>\n",
       "</table>\n",
       "</div>"
      ],
      "text/plain": [
       "                name     release_dates platforms meta_scores user_scores  \\\n",
       "0  Shattered Horizon  November 4, 2009        PC          72         8.0   \n",
       "1  Shattered Horizon  November 4, 2009        PC          72         8.0   \n",
       "2  Shattered Horizon  November 4, 2009        PC          72         8.0   \n",
       "3  Shattered Horizon  November 4, 2009        PC          72         8.0   \n",
       "4  Shattered Horizon  November 4, 2009        PC          72         8.0   \n",
       "5  Shattered Horizon  November 4, 2009        PC          72         8.0   \n",
       "6  Shattered Horizon  November 4, 2009        PC          72         8.0   \n",
       "7  Shattered Horizon  November 4, 2009        PC          72         8.0   \n",
       "8  Shattered Horizon  November 4, 2009        PC          72         8.0   \n",
       "9  Shattered Horizon  November 4, 2009        PC          72         8.0   \n",
       "\n",
       "                                           summeries num_meta_critics  \\\n",
       "0  Shattered Horizon is the first game from Futur...               30   \n",
       "1  Shattered Horizon is the first game from Futur...               30   \n",
       "2  Shattered Horizon is the first game from Futur...               30   \n",
       "3  Shattered Horizon is the first game from Futur...               30   \n",
       "4  Shattered Horizon is the first game from Futur...               30   \n",
       "5  Shattered Horizon is the first game from Futur...               30   \n",
       "6  Shattered Horizon is the first game from Futur...               30   \n",
       "7  Shattered Horizon is the first game from Futur...               30   \n",
       "8  Shattered Horizon is the first game from Futur...               30   \n",
       "9  Shattered Horizon is the first game from Futur...               30   \n",
       "\n",
       "                 developer  amount_of_platforms  \\\n",
       "0  Futuremark Games Studio                    1   \n",
       "1  Futuremark Games Studio                    1   \n",
       "2  Futuremark Games Studio                    1   \n",
       "3  Futuremark Games Studio                    1   \n",
       "4  Futuremark Games Studio                    1   \n",
       "5  Futuremark Games Studio                    1   \n",
       "6  Futuremark Games Studio                    1   \n",
       "7  Futuremark Games Studio                    1   \n",
       "8  Futuremark Games Studio                    1   \n",
       "9  Futuremark Games Studio                    1   \n",
       "\n",
       "                                          all_genres  \n",
       "0  Action,Shooter,Shooter,First-Person,Sci-Fi,Sci...  \n",
       "1  Action,Shooter,Shooter,First-Person,Sci-Fi,Sci...  \n",
       "2  Action,Shooter,Shooter,First-Person,Sci-Fi,Sci...  \n",
       "3  Action,Shooter,Shooter,First-Person,Sci-Fi,Sci...  \n",
       "4  Action,Shooter,Shooter,First-Person,Sci-Fi,Sci...  \n",
       "5  Action,Shooter,Shooter,First-Person,Sci-Fi,Sci...  \n",
       "6  Action,Shooter,Shooter,First-Person,Sci-Fi,Sci...  \n",
       "7  Action,Shooter,Shooter,First-Person,Sci-Fi,Sci...  \n",
       "8  Action,Shooter,Shooter,First-Person,Sci-Fi,Sci...  \n",
       "9  Action,Shooter,Shooter,First-Person,Sci-Fi,Sci...  "
      ]
     },
     "execution_count": 7,
     "metadata": {},
     "output_type": "execute_result"
    }
   ],
   "source": [
    "#df is the data frame that contains all the data we scraped\n",
    "df = pd.DataFrame(data = {\n",
    "    \"name\" : names , \n",
    "    \"release_dates\" : release_dates , \n",
    "    \"platforms\":platforms , \n",
    "    \"meta_scores\" : meta_scores , \n",
    "    \"user_scores\" : user_scores , \n",
    "    \"summeries\" : summeries , \n",
    "    \"num_meta_critics\" : amount_of_meta_criticss , \n",
    "    \"developer\" : devs , \n",
    "    \"amount_of_platforms\" : amount_of_platformss , \n",
    "    \"all_genres\" : all_genres})\n",
    "df\n",
    "#11"
   ]
  },
  {
   "cell_type": "markdown",
   "id": "d12b37e8",
   "metadata": {},
   "source": []
  },
  {
   "cell_type": "markdown",
   "id": "442d57d7",
   "metadata": {},
   "source": [
    "# CREATING BINARY COLUMNS FOR GENRES"
   ]
  },
  {
   "cell_type": "code",
   "execution_count": null,
   "id": "ea4b585f",
   "metadata": {},
   "outputs": [],
   "source": [
    "# seperating genres\n",
    "#note that those are not all the genres we just took the main ones\n",
    "action_game = []\n",
    "general_game = []\n",
    "rpg_game =[]\n",
    "open_world_game =[]\n",
    "survival_game= []\n",
    "shooter_game=[]\n",
    "point_and_click_game =[]\n",
    "strategy_game =[]\n",
    "sports_game =[]\n",
    "racing_game =[]\n",
    "\n",
    "\n",
    "#checking if a word is in the string that describes all genres\n",
    "#if yes append one, otherwise add 0\n",
    "for i in df.all_genres:\n",
    "    if(\"Action\" in i):\n",
    "        action_game.append(1)\n",
    "    else:\n",
    "        action_game.append(0)\n",
    "        \n",
    "    if(\"General\" in i):\n",
    "        general_game.append(1)\n",
    "    else:\n",
    "        general_game.append(0)\n",
    "    \n",
    "    if(\"Role-Playing\" in i or \"RPG\" in i):\n",
    "        rpg_game.append(1)\n",
    "    else:\n",
    "        rpg_game.append(0)\n",
    "    \n",
    "    if(\"Open-World\" in i):\n",
    "        open_world_game.append(1)\n",
    "    else:\n",
    "        open_world_game.append(0)\n",
    "        \n",
    "    if(\"Survival\" in i):\n",
    "        survival_game.append(1)\n",
    "    else:\n",
    "        survival_game.append(0)\n",
    "    \n",
    "    if(\"Shooter\" in i):\n",
    "        shooter_game.append(1)\n",
    "    else:\n",
    "        shooter_game.append(0)\n",
    "        \n",
    "    if(\"Point-and-Click\" in i):\n",
    "        point_and_click_game.append(1)\n",
    "    else:\n",
    "        point_and_click_game.append(0)\n",
    "        \n",
    "    if(\"Sports\" in i):\n",
    "        sports_game.append(1)\n",
    "    else:\n",
    "        sports_game.append(0)\n",
    "        \n",
    "    if(\"Strategy\" in i):\n",
    "        strategy_game.append(1)\n",
    "    else:\n",
    "        strategy_game.append(0)\n",
    "    if(\"Racing\" in i):\n",
    "        racing_game.append(1)\n",
    "    else:\n",
    "        racing_game.append(0)\n"
   ]
  },
  {
   "cell_type": "code",
   "execution_count": null,
   "id": "4fbdc8ea",
   "metadata": {},
   "outputs": [],
   "source": [
    "df[\"is_action\"] = action_game\n",
    "df[\"is_general\"] = general_game\n",
    "df[\"is_rpg\"] = rpg_game\n",
    "df[\"is_open_world\"] = open_world_game\n",
    "df[\"is_survival\"] = survival_game\n",
    "df[\"is_shooter\"] = shooter_game\n",
    "df[\"is_point_and_click\"] = point_and_click_game\n",
    "df[\"is_strategy\"] = strategy_game\n",
    "df[\"is_sports\"] = sports_game\n",
    "df[\"is_racing\"] = racing_game\n",
    "\n",
    "#showing the new columns\n",
    "df[['is_action' ,'is_general' , \"is_rpg\" , \"is_open_world\", \"is_survival\", \"is_shooter\", \"is_point_and_click\", \"is_strategy\", \"is_sports\" , \"is_racing\"]]"
   ]
  },
  {
   "cell_type": "code",
   "execution_count": null,
   "id": "a51cda6a",
   "metadata": {},
   "outputs": [],
   "source": [
    "print(\"THE SIZE OF DF IS : \" + str(5000 * 22))"
   ]
  },
  {
   "cell_type": "markdown",
   "id": "8da570c1",
   "metadata": {},
   "source": [
    "DATA CLEANING\n"
   ]
  },
  {
   "cell_type": "markdown",
   "id": "85167765",
   "metadata": {},
   "source": [
    "MAKE SOME VALUES INT:"
   ]
  },
  {
   "cell_type": "code",
   "execution_count": 7,
   "id": "d82ea522",
   "metadata": {},
   "outputs": [
    {
     "name": "stdout",
     "output_type": "stream",
     "text": [
      "<class 'pandas.core.frame.DataFrame'>\n",
      "RangeIndex: 511 entries, 0 to 510\n",
      "Data columns (total 10 columns):\n",
      " #   Column               Non-Null Count  Dtype \n",
      "---  ------               --------------  ----- \n",
      " 0   name                 511 non-null    object\n",
      " 1   release_dates        511 non-null    object\n",
      " 2   platforms            511 non-null    object\n",
      " 3   meta_scores          511 non-null    int32 \n",
      " 4   user_scores          511 non-null    object\n",
      " 5   summeries            511 non-null    object\n",
      " 6   num_meta_critics     511 non-null    int32 \n",
      " 7   developer            511 non-null    object\n",
      " 8   amount_of_platforms  511 non-null    int64 \n",
      " 9   all_genres           511 non-null    object\n",
      "dtypes: int32(2), int64(1), object(7)\n",
      "memory usage: 36.1+ KB\n"
     ]
    }
   ],
   "source": [
    "#metascore and the amount of meta critics turn to int\n",
    "df['meta_scores'] = df['meta_scores'].astype(int)\n",
    "df['num_meta_critics'] = df['num_meta_critics'].astype(int)\n",
    "\n",
    "df.info()\n"
   ]
  },
  {
   "cell_type": "markdown",
   "id": "08245c25",
   "metadata": {},
   "source": [
    "FIX 'tbd' VALUES:\n",
    "To not hurt the AVG"
   ]
  },
  {
   "cell_type": "code",
   "execution_count": 8,
   "id": "cb1f0540",
   "metadata": {},
   "outputs": [
    {
     "name": "stdout",
     "output_type": "stream",
     "text": [
      "SIZE BEFORE:\n",
      "511\n",
      "\n",
      "SIZE AFTER:\n",
      "510\n"
     ]
    }
   ],
   "source": [
    "#removing all 'tbd' (to be determined scores)\n",
    "print(\"SIZE BEFORE:\")\n",
    "print(len(df.name))\n",
    "\n",
    "df = df[df.user_scores != 'tbd'];\n",
    "\n",
    "\n",
    "print(\"\\nSIZE AFTER:\")\n",
    "print(len(df.name))\n",
    "#showing before and after sized"
   ]
  },
  {
   "cell_type": "code",
   "execution_count": null,
   "id": "e09662eb",
   "metadata": {},
   "outputs": [],
   "source": []
  },
  {
   "cell_type": "code",
   "execution_count": null,
   "id": "f75a7ad8",
   "metadata": {},
   "outputs": [],
   "source": []
  },
  {
   "cell_type": "markdown",
   "id": "65c68abc",
   "metadata": {},
   "source": [
    "REMOVE ROWS WITH LESS THAN 8 CRITICS"
   ]
  },
  {
   "cell_type": "code",
   "execution_count": null,
   "id": "b90052cd",
   "metadata": {},
   "outputs": [],
   "source": [
    "print(\"SIZE BEFORE:\")\n",
    "len(df.name)"
   ]
  },
  {
   "cell_type": "code",
   "execution_count": null,
   "id": "2ed4f60a",
   "metadata": {},
   "outputs": [],
   "source": [
    "df = df[df.num_meta_critics >7]\n",
    "\n",
    "print(\"SIZE AFTER:\")\n",
    "len(df.name)"
   ]
  },
  {
   "cell_type": "markdown",
   "id": "c5a7aecd",
   "metadata": {},
   "source": [
    "TURN user_scores TO INT VALUES FOR LATER"
   ]
  },
  {
   "cell_type": "code",
   "execution_count": null,
   "id": "ff07ad07",
   "metadata": {},
   "outputs": [],
   "source": [
    "#the user scored before are a string of a number between 0 - 10\n",
    "#we multiplied the score by 10 to be similar to the meta scores\n",
    "df['user_scores'] = df['user_scores'].astype(float)\n",
    "df['user_scores'] = df['user_scores']*10\n",
    "df['user_scores'] = df['user_scores'].astype(int)\n"
   ]
  },
  {
   "cell_type": "code",
   "execution_count": null,
   "id": "c06fb8ad",
   "metadata": {},
   "outputs": [],
   "source": [
    "df"
   ]
  },
  {
   "cell_type": "markdown",
   "id": "f7b234d9",
   "metadata": {},
   "source": [
    "CREATE A COLUMN FOR avg_score BETWEEN meta_score and user_score"
   ]
  },
  {
   "cell_type": "code",
   "execution_count": null,
   "id": "f6e44d00",
   "metadata": {},
   "outputs": [],
   "source": [
    "\n",
    "df[\"avg_score\"] = (df['user_scores'] + df['meta_scores'])/2"
   ]
  },
  {
   "cell_type": "code",
   "execution_count": null,
   "id": "0d1eabf4",
   "metadata": {},
   "outputs": [],
   "source": [
    "df.avg_score"
   ]
  },
  {
   "cell_type": "markdown",
   "id": "66b70206",
   "metadata": {},
   "source": [
    "FIRST DATA ANALYSIS:\n"
   ]
  },
  {
   "cell_type": "code",
   "execution_count": null,
   "id": "1fa00dd4",
   "metadata": {},
   "outputs": [],
   "source": [
    "df"
   ]
  },
  {
   "cell_type": "markdown",
   "id": "0416b11f",
   "metadata": {},
   "source": []
  },
  {
   "cell_type": "code",
   "execution_count": null,
   "id": "ea372403",
   "metadata": {},
   "outputs": [],
   "source": [
    "print(\"Different Games:\")\n",
    "print(len(df.name.value_counts()))"
   ]
  },
  {
   "cell_type": "code",
   "execution_count": null,
   "id": "5a9d1155",
   "metadata": {},
   "outputs": [],
   "source": [
    "print(\"Different Developers:\")\n",
    "print(len(df.developer.value_counts()))"
   ]
  },
  {
   "cell_type": "code",
   "execution_count": null,
   "id": "8b350cb8",
   "metadata": {},
   "outputs": [],
   "source": [
    "print(\"Different Main Genres:\")\n",
    "print(10)"
   ]
  },
  {
   "cell_type": "markdown",
   "id": "6b6fe2dd",
   "metadata": {},
   "source": [
    "ADD COLUMN FOR SUCCESSFUL GAMES"
   ]
  },
  {
   "cell_type": "code",
   "execution_count": null,
   "id": "d772a31f",
   "metadata": {},
   "outputs": [],
   "source": [
    "sucessful = []\n",
    "for score in df.avg_score:\n",
    "    if score > 81:\n",
    "        sucessful.append(1)\n",
    "    else : sucessful.append(0)\n",
    "df[\"is_successful\"] = sucessful\n",
    "print(\"Amount of unsuccessful games:\")\n",
    "print(len(df[df.is_successful == 0]))\n",
    "print(\"Amount of successful games:\")\n",
    "print(len(df[df.is_successful == 1]))\n"
   ]
  },
  {
   "cell_type": "markdown",
   "id": "aec37f50",
   "metadata": {},
   "source": [
    "EDA"
   ]
  },
  {
   "cell_type": "markdown",
   "id": "64aa12c1",
   "metadata": {},
   "source": [
    "THIS IS THE REPRESENTATION OF THE AVG SCORE"
   ]
  },
  {
   "cell_type": "code",
   "execution_count": null,
   "id": "ec706459",
   "metadata": {},
   "outputs": [],
   "source": [
    "plt.figure(figsize=(10, 10))\n",
    "\n",
    "plt.subplot(511)\n",
    "\n",
    "sns.boxplot(df[\"avg_score\"])\n",
    "\n",
    "plt.show()"
   ]
  },
  {
   "cell_type": "markdown",
   "id": "76ab6da7",
   "metadata": {},
   "source": [
    "THIS IS THE REPRESENTATION OF THE META SCORES"
   ]
  },
  {
   "cell_type": "code",
   "execution_count": null,
   "id": "c51b3e62",
   "metadata": {},
   "outputs": [],
   "source": [
    "plt.figure(figsize=(10, 10))\n",
    "\n",
    "plt.subplot(511)\n",
    "\n",
    "sns.boxplot(df[\"meta_scores\"])\n",
    "\n",
    "plt.show()"
   ]
  },
  {
   "cell_type": "markdown",
   "id": "eb6dd1ec",
   "metadata": {},
   "source": [
    "THIS IS THE REPRESENTATION OF THE USER SCORES"
   ]
  },
  {
   "cell_type": "code",
   "execution_count": null,
   "id": "50fbf116",
   "metadata": {},
   "outputs": [],
   "source": [
    "plt.figure(figsize=(10, 10))\n",
    "\n",
    "plt.subplot(511)\n",
    "\n",
    "sns.boxplot(df[\"user_scores\"])\n",
    "\n",
    "plt.show()"
   ]
  },
  {
   "cell_type": "markdown",
   "id": "1ad5d172",
   "metadata": {},
   "source": [
    "We can see that the users on avarage rate games higher than website owners.\n",
    "Although if the users dislike a game they give it very low ratings.\n",
    "We can see that minimum score is much lower that the meta scores."
   ]
  },
  {
   "cell_type": "markdown",
   "id": "823b39a1",
   "metadata": {},
   "source": [
    "SHOWING THE AMOUNTS OF GAMES IN EACH CATEGORY"
   ]
  },
  {
   "cell_type": "code",
   "execution_count": null,
   "id": "c14dc5ac",
   "metadata": {},
   "outputs": [],
   "source": [
    "fig = plt.figure(figsize=(12,5))\n",
    "names = [\"RPG\",\"ACTION\",\"RACING\",\"OPEN WORLD\",\"SHOOTER\",\"GENERAL\",\"SPORTS\" , \"SURVIVAL\", \"POINT&CLICK\"]\n",
    "scores = [len(df.is_rpg[df.is_rpg == 1]),\n",
    "          len(df.is_action[df.is_action == 1]),\n",
    "          len(df.is_racing[df.is_racing == 1]),\n",
    "          len(df.is_open_world[df.is_open_world == 1]),\n",
    "          len(df.is_shooter[df.is_shooter == 1]),\n",
    "          len(df.is_general[df.is_general == 1]),\n",
    "          len(df.is_sports[df.is_sports == 1]),\n",
    "          len(df.is_survival[df.is_survival == 1]),\n",
    "          len(df.is_point_and_click[df.is_point_and_click == 1])]\n",
    "positions= [0,1,2,3,4,5,6,7,8]\n",
    "\n",
    "plt.bar(positions , scores , width=0.5 , )\n",
    "\n",
    "plt.xticks(positions, names)\n",
    "\n",
    "plt.show()\n",
    "\n"
   ]
  },
  {
   "cell_type": "markdown",
   "id": "4a6de2c7",
   "metadata": {},
   "source": [
    "SHOW HOW MANY GAMES RELEASED ON EACH MONTH OF THE YEAR"
   ]
  },
  {
   "cell_type": "code",
   "execution_count": null,
   "id": "756dffa4",
   "metadata": {},
   "outputs": [],
   "source": [
    "#COUNT \n",
    "\n",
    "jan=feb=mar=apr=may=jun=jul=aug=sep=octb=nov=dec=0;\n",
    "\n",
    "for rd in df.release_dates:\n",
    "    if \"January\" in rd:\n",
    "        jan = jan+1\n",
    "    elif \"February\" in rd:\n",
    "        feb = feb+1\n",
    "    elif \"March\" in rd:\n",
    "        mar = mar+1\n",
    "    elif \"April\" in rd:\n",
    "        apr = apr+1\n",
    "    elif \"May\" in rd:\n",
    "        may = may+1;\n",
    "    elif \"June\" in rd:\n",
    "        jun = jun+1;\n",
    "    elif \"July\" in rd:\n",
    "        jul = jul+1;\n",
    "    elif \"August\" in rd:\n",
    "        aug = aug+1;\n",
    "    elif \"Septermber\" in rd:\n",
    "        sep = sep+1;\n",
    "    elif \"October\" in rd:\n",
    "        octb = octb+1;\n",
    "    elif \"November\" in rd:\n",
    "        nov = nov+1;\n",
    "    elif \"December\" in rd:\n",
    "        dec = dec+1;\n"
   ]
  },
  {
   "cell_type": "code",
   "execution_count": null,
   "id": "ef6fa12a",
   "metadata": {},
   "outputs": [],
   "source": [
    "#SHOW\n",
    "\n",
    "games = [jan,feb,mar,apr,may,jun,jul,aug,sep,octb,nov,dec]\n",
    "months = [\"jan\",\"feb\",\"mar\",\"apr\",\"may\",\"jun\",\"jul\",\"aug\",\"sep\",\"octb\",\"nov\",\"dec\"]\n",
    "#exp =[0,0,0,0,0,0,0,0,0,0,0,0]\n",
    "plt.pie(games, labels=months)\n",
    "plt.show()\n",
    "games"
   ]
  },
  {
   "cell_type": "markdown",
   "id": "06292848",
   "metadata": {},
   "source": [
    "Most games are released on October."
   ]
  },
  {
   "cell_type": "code",
   "execution_count": null,
   "id": "b2497f22",
   "metadata": {},
   "outputs": [],
   "source": [
    "ct = pd.crosstab( df.amount_of_platforms , df.is_successful)\n",
    "ct.plot()"
   ]
  },
  {
   "cell_type": "markdown",
   "id": "af9a2f35",
   "metadata": {},
   "source": [
    "There's no correlation between the amount of platforms and the success level of a game."
   ]
  },
  {
   "cell_type": "markdown",
   "id": "aaf20789",
   "metadata": {},
   "source": [
    "DATA ENGENEERING"
   ]
  },
  {
   "cell_type": "markdown",
   "id": "4800e7e1",
   "metadata": {},
   "source": [
    "CHANGE DATA INTO NUMBERS FOR MACHINE LEARNING ALGORITHMS"
   ]
  },
  {
   "cell_type": "code",
   "execution_count": null,
   "id": "55e81872",
   "metadata": {},
   "outputs": [],
   "source": [
    "df_numeric = df.copy();\n",
    "#remove platform\n",
    "df_numeric = df_numeric.loc[:, df_numeric.columns!='platforms']\n",
    "#remove Genres (already turned to numbers)\n",
    "df_numeric = df_numeric.loc[:, df_numeric.columns!='all_genres']\n",
    "\n",
    "\n",
    "\n",
    "df_numeric"
   ]
  },
  {
   "cell_type": "code",
   "execution_count": null,
   "id": "257fcb30",
   "metadata": {},
   "outputs": [],
   "source": [
    "\n",
    "#developers into numbers each number represents unique developer\n",
    "print(df[\"developer\"].value_counts())\n",
    "df_numeric[\"developer\"] = pd.factorize(df.developer)[0]\n"
   ]
  },
  {
   "cell_type": "code",
   "execution_count": null,
   "id": "3b43e828",
   "metadata": {},
   "outputs": [],
   "source": [
    "df_numeric"
   ]
  },
  {
   "cell_type": "code",
   "execution_count": null,
   "id": "81d3f6e9",
   "metadata": {},
   "outputs": [],
   "source": [
    "#deal with release dates\n",
    "# we split this string column into 2 numeric columns, year and month\n",
    "year_only = []\n",
    "month_only = []\n",
    "for string in df.release_dates:\n",
    "    year_only.append(string.split(\",\")[1].strip())\n",
    "    month_only.append(string.split(\" \")[0].strip())\n",
    "df_numeric[\"year\"] = year_only\n",
    "df_numeric[\"month\"] = month_only\n",
    "#turn month into categorical numerics\n",
    "df_numeric[\"month\"] = pd.factorize(df_numeric.month)[0]\n",
    "df_numeric = df_numeric.loc[:, df_numeric.columns!='release_dates']"
   ]
  },
  {
   "cell_type": "code",
   "execution_count": null,
   "id": "a5bdbc7c",
   "metadata": {},
   "outputs": [],
   "source": [
    "df_numeric = df_numeric.loc[:, df_numeric.columns!='name']\n",
    "df_numeric = df_numeric.loc[:, df_numeric.columns!='summeries']\n",
    "\n",
    "df_numeric"
   ]
  },
  {
   "cell_type": "markdown",
   "id": "511d9193",
   "metadata": {},
   "source": [
    "MACHINE LEARNING"
   ]
  },
  {
   "cell_type": "markdown",
   "id": "cd3c1ac1",
   "metadata": {},
   "source": [
    "1.Multinomial Naive Bayes"
   ]
  },
  {
   "cell_type": "markdown",
   "id": "ca96e121",
   "metadata": {},
   "source": [
    "Using Multinomial Naive Bayes, on all games' summeries.\n",
    "We made the computer read all a game's summery and from that decide if it's a successful games or not."
   ]
  },
  {
   "cell_type": "code",
   "execution_count": null,
   "id": "a823475b",
   "metadata": {},
   "outputs": [],
   "source": [
    "#importing and using Count Vectorizer\n",
    "from sklearn.feature_extraction.text import CountVectorizer\n",
    "cv = CountVectorizer();\n",
    "\n",
    "x = cv.fit_transform(df.summeries)\n",
    "a = x.toarray()\n",
    "a\n",
    "# a is an array\n",
    "# each row counts the instances if each word from one game's summery"
   ]
  },
  {
   "cell_type": "code",
   "execution_count": null,
   "id": "5eaa4316",
   "metadata": {},
   "outputs": [],
   "source": [
    "#splitting the array into train and test\n",
    "X_train, X_test , y_train, y_test = train_test_split(x , df['is_successful'] , test_size=0.2,random_state=300)\n",
    "\n",
    "from sklearn.naive_bayes import MultinomialNB\n",
    "classifier = MultinomialNB().fit(X_train , y_train)"
   ]
  },
  {
   "cell_type": "code",
   "execution_count": null,
   "id": "35aae4a9",
   "metadata": {},
   "outputs": [],
   "source": [
    "#0 - unsuccessful\n",
    "#1 - unsuccessful\n",
    "print(classifier.predict(X_train))"
   ]
  },
  {
   "cell_type": "code",
   "execution_count": null,
   "id": "9856f62d",
   "metadata": {},
   "outputs": [],
   "source": [
    "print(y_train.values)"
   ]
  },
  {
   "cell_type": "code",
   "execution_count": null,
   "id": "742e73e9",
   "metadata": {},
   "outputs": [],
   "source": [
    "from sklearn.metrics import classification_report , confusion_matrix , accuracy_score\n",
    "pred = classifier.predict(X_train)\n",
    "print(\"THE ACCURACY SCORE FOR MultinomialNB IS(ON TRAIN):\")\n",
    "print(accuracy_score(y_train , pred))"
   ]
  },
  {
   "cell_type": "code",
   "execution_count": null,
   "id": "4f1249d0",
   "metadata": {},
   "outputs": [],
   "source": [
    "pred = classifier.predict(X_test)\n",
    "print(pred)"
   ]
  },
  {
   "cell_type": "code",
   "execution_count": null,
   "id": "f88a1c0d",
   "metadata": {},
   "outputs": [],
   "source": [
    "print(y_test.values)"
   ]
  },
  {
   "cell_type": "code",
   "execution_count": null,
   "id": "7a315ca3",
   "metadata": {},
   "outputs": [],
   "source": [
    "print(\"THE ACCURACY SCORE FOR MultinomialNB IS(ON TEST):\")\n",
    "print(accuracy_score(y_test , pred))\n"
   ]
  },
  {
   "cell_type": "markdown",
   "id": "847f3ff1",
   "metadata": {},
   "source": [
    "2. Using the Dataframe's numeric and categorical columns (Logistic Regression) "
   ]
  },
  {
   "cell_type": "markdown",
   "id": "5a0f97dc",
   "metadata": {},
   "source": [
    "Logistic Regression"
   ]
  },
  {
   "cell_type": "code",
   "execution_count": null,
   "id": "2e93b086",
   "metadata": {},
   "outputs": [],
   "source": [
    "df_numeric"
   ]
  },
  {
   "cell_type": "code",
   "execution_count": null,
   "id": "8cf818ac",
   "metadata": {},
   "outputs": [],
   "source": [
    "#splitting\n",
    "y = df_numeric[\"is_successful\"]\n",
    "X = df_numeric.copy()\n",
    "\n",
    "X = X.loc[:, X.columns!='meta_scores']\n",
    "X = X.loc[:, X.columns!='user_scores']\n",
    "X = X.loc[:, X.columns!='avg_score']\n",
    "X = X.loc[:, X.columns!='is_successful']\n",
    "\n",
    "X['year'] = X['year'].astype(int)\n",
    "\n",
    "\n",
    "X_train, X_test, y_train, y_test = train_test_split(X, y, test_size = 0.15, random_state = 687)\n",
    "\n"
   ]
  },
  {
   "cell_type": "code",
   "execution_count": null,
   "id": "f871ad85",
   "metadata": {},
   "outputs": [],
   "source": [
    "\n",
    "X"
   ]
  },
  {
   "cell_type": "code",
   "execution_count": null,
   "id": "40be3b2d",
   "metadata": {},
   "outputs": [],
   "source": [
    "y"
   ]
  },
  {
   "cell_type": "code",
   "execution_count": null,
   "id": "ea9260bd",
   "metadata": {},
   "outputs": [],
   "source": [
    "from sklearn.linear_model import LogisticRegression\n",
    "model = LogisticRegression()"
   ]
  },
  {
   "cell_type": "code",
   "execution_count": null,
   "id": "f64527ce",
   "metadata": {},
   "outputs": [],
   "source": [
    "model.fit(X_train, y_train)"
   ]
  },
  {
   "cell_type": "code",
   "execution_count": null,
   "id": "7288a6f9",
   "metadata": {},
   "outputs": [],
   "source": [
    "y_predicted = model.predict(X_train)\n",
    "y_predicted"
   ]
  },
  {
   "cell_type": "code",
   "execution_count": null,
   "id": "98419347",
   "metadata": {},
   "outputs": [],
   "source": [
    "y_train.values"
   ]
  },
  {
   "cell_type": "code",
   "execution_count": null,
   "id": "c504d215",
   "metadata": {},
   "outputs": [],
   "source": [
    "print(\"Accuracy score for train\")\n",
    "\n",
    "model.score(X_train,y_train)"
   ]
  },
  {
   "cell_type": "code",
   "execution_count": null,
   "id": "41060844",
   "metadata": {},
   "outputs": [],
   "source": [
    "y_predicted = model.predict(X_test)"
   ]
  },
  {
   "cell_type": "code",
   "execution_count": null,
   "id": "a83846f8",
   "metadata": {},
   "outputs": [],
   "source": [
    "y_predicted"
   ]
  },
  {
   "cell_type": "code",
   "execution_count": null,
   "id": "f0dc11ed",
   "metadata": {},
   "outputs": [],
   "source": [
    "y_test.values"
   ]
  },
  {
   "cell_type": "code",
   "execution_count": null,
   "id": "16df4a50",
   "metadata": {},
   "outputs": [],
   "source": [
    "print(\"Accuracy score for test\")\n",
    "model.score(X_test,y_test)"
   ]
  },
  {
   "cell_type": "markdown",
   "id": "994d1d32",
   "metadata": {},
   "source": []
  },
  {
   "cell_type": "code",
   "execution_count": null,
   "id": "187d25f6",
   "metadata": {},
   "outputs": [],
   "source": []
  },
  {
   "cell_type": "markdown",
   "id": "a4f50512",
   "metadata": {},
   "source": [
    "Random Forests"
   ]
  },
  {
   "cell_type": "markdown",
   "id": "1b7b24e1",
   "metadata": {},
   "source": [
    "Using another classification method."
   ]
  },
  {
   "cell_type": "code",
   "execution_count": null,
   "id": "57b43e67",
   "metadata": {},
   "outputs": [],
   "source": [
    "import sklearn as sk\n",
    "from sklearn.ensemble import RandomForestClassifier\n",
    "\n",
    "RF = RandomForestClassifier(n_estimators=100, max_depth=10, random_state=0)\n",
    "RF.fit(X_train, y_train)\n",
    "pred = RF.predict(X_test)\n",
    "\n",
    "print(\"FOR TEST:\")\n",
    "\n",
    "\n",
    "print(\"PREDICTION:\")\n",
    "print(pred)\n",
    "\n",
    "print(\"ANSWERS:\")\n",
    "print(y_test.values)\n",
    "\n",
    "print(\"ACCURACY (TEST):\")\n",
    "RF.score(X_test,y_test)"
   ]
  },
  {
   "cell_type": "code",
   "execution_count": null,
   "id": "7b32947d",
   "metadata": {},
   "outputs": [],
   "source": [
    "pred = RF.predict(X_train)\n",
    "\n",
    "print(\"FOR TRAIN:\")\n",
    "\n",
    "\n",
    "print(\"PREDICTION:\")\n",
    "print(pred)\n",
    "\n",
    "print(\"ANSWERS:\")\n",
    "print(y_train.values)\n",
    "\n",
    "print(\"ACCURACY:\")\n",
    "RF.score(X_train,y_train)"
   ]
  },
  {
   "cell_type": "code",
   "execution_count": null,
   "id": "70d567fa",
   "metadata": {},
   "outputs": [],
   "source": []
  },
  {
   "cell_type": "markdown",
   "id": "a220fca2",
   "metadata": {},
   "source": [
    "CONCLUTIONS:\n",
    "\n",
    "We managed to predict weather a game will be successful or not.\n",
    "\n",
    "The accuracy of Multinomial Naive Bayes on the summeries alone was : \n",
    "\n",
    "The accuracy of Logistic Regression on everything else was : \n",
    "\n",
    "The accuracy of Random Forests on everything else was :\n",
    "\n",
    "This project can help developers and publishers choose ideas to invest in :)"
   ]
  },
  {
   "cell_type": "code",
   "execution_count": null,
   "id": "4db888f4",
   "metadata": {},
   "outputs": [],
   "source": []
  },
  {
   "cell_type": "code",
   "execution_count": null,
   "id": "6377e242",
   "metadata": {},
   "outputs": [],
   "source": []
  },
  {
   "cell_type": "code",
   "execution_count": null,
   "id": "be79a75c",
   "metadata": {},
   "outputs": [],
   "source": []
  },
  {
   "cell_type": "code",
   "execution_count": null,
   "id": "84923af4",
   "metadata": {},
   "outputs": [],
   "source": []
  }
 ],
 "metadata": {
  "kernelspec": {
   "display_name": "Python 3 (ipykernel)",
   "language": "python",
   "name": "python3"
  },
  "language_info": {
   "codemirror_mode": {
    "name": "ipython",
    "version": 3
   },
   "file_extension": ".py",
   "mimetype": "text/x-python",
   "name": "python",
   "nbconvert_exporter": "python",
   "pygments_lexer": "ipython3",
   "version": "3.9.7"
  }
 },
 "nbformat": 4,
 "nbformat_minor": 5
}
